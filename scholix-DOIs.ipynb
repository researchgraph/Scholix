{
 "cells": [
  {
   "cell_type": "markdown",
   "metadata": {},
   "source": [
    "# Setup"
   ]
  },
  {
   "cell_type": "code",
   "execution_count": null,
   "metadata": {
    "collapsed": true
   },
   "outputs": [],
   "source": [
    "import os, sys, glob, json\n",
    "import pprint as pp\n",
    "import requests\n",
    "from requests.utils import requote_uri\n",
    "import sqlite3\n",
    "\n",
    "localDB='doi_prefixes.db'\n",
    "doi_table_name = 'dois'\n",
    "prefix_table_name = 'prefixes'\n",
    "fld_prefix='prefix'\n",
    "fld_count='cnt'\n",
    "fld_org='org'\n",
    "fld_file='file'\n",
    "fld_doi='doi'\n",
    "\n",
    "dois={}\n",
    "prefixes={}"
   ]
  },
  {
   "cell_type": "markdown",
   "metadata": {},
   "source": [
    "## Create DB"
   ]
  },
  {
   "cell_type": "code",
   "execution_count": null,
   "metadata": {
    "collapsed": true
   },
   "outputs": [],
   "source": [
    "db = sqlite3.connect(localDB)\n",
    "cur = db.cursor()  \n",
    "# Creating DOIs\n",
    "sql='CREATE TABLE IF NOT EXISTS {tn} ({nf1} {ft1},{nf2} {ft2},{nf3} {ft3},{nf4} {ft4}, PRIMARY KEY ({nf1}, {nf2}))'\\\n",
    "            .format(tn=doi_table_name,\\\n",
    "                    nf1=fld_file, ft1='TEXT',\\\n",
    "                    nf2=fld_doi, ft2='TEXT',\\\n",
    "                    nf3=fld_prefix, ft3='TEXT',\\\n",
    "                    nf4=fld_count, ft4='INTEGER')\n",
    "cur.execute(sql) \n",
    "# Creating Prefixes\n",
    "sql='CREATE TABLE IF NOT EXISTS {tn} ({nf1} {ft1} PRIMARY KEY, {nf2} {ft2})'\\\n",
    "            .format(tn=prefix_table_name, nf1=fld_prefix, ft1='TEXT', nf2=fld_org, ft2='TEXT')\n",
    "cur.execute(sql) \n",
    "# Close the connection\n",
    "db.commit()\n",
    "db.close()"
   ]
  },
  {
   "cell_type": "markdown",
   "metadata": {},
   "source": [
    "# Process nodes"
   ]
  },
  {
   "cell_type": "code",
   "execution_count": null,
   "metadata": {
    "collapsed": true
   },
   "outputs": [],
   "source": [
    "def processNode(node):\n",
    "    for i in node['identifiers']:\n",
    "        if i['schema']=='doi':\n",
    "            doi=i['identifier']\n",
    "            if doi in dois:\n",
    "                dois[doi]=dois[doi]+1\n",
    "            else:\n",
    "                dois[doi]=1"
   ]
  },
  {
   "cell_type": "code",
   "execution_count": null,
   "metadata": {
    "collapsed": true
   },
   "outputs": [],
   "source": [
    "def listPrefixes():\n",
    "    for d in dois:\n",
    "        p= d.split('/')[0]\n",
    "        if p in prefixes:\n",
    "            prefixes[p]= prefixes[p]+1\n",
    "        else:\n",
    "            prefixes[p]=1"
   ]
  },
  {
   "cell_type": "code",
   "execution_count": null,
   "metadata": {
    "collapsed": true
   },
   "outputs": [],
   "source": [
    "def importDOIs(fname):\n",
    "    db = sqlite3.connect(localDB)\n",
    "    cur = db.cursor()   \n",
    "    for doi in dois:\n",
    "        p= doi.split('/')[0]\n",
    "        if p in prefixes:\n",
    "            prefixes[p]= prefixes[p]+1\n",
    "        else:\n",
    "            prefixes[p]=1        \n",
    "        sql=\"INSERT INTO {tn} ({nf1}, {nf2}, {nf3},{nf4}) VALUES('{val1}', '{val2}', '{val3}','{val4}')\"\\\n",
    "             .format(tn=doi_table_name, nf1=fld_file,nf2=fld_doi,nf3=fld_prefix,nf4=fld_count,\\\n",
    "                     val1=fname,val2=doi,val3=p,val4=dois[doi])\n",
    "        cur.execute(sql)        \n",
    "    db.commit()\n",
    "    db.close()"
   ]
  },
  {
   "cell_type": "code",
   "execution_count": null,
   "metadata": {
    "collapsed": true
   },
   "outputs": [],
   "source": [
    "def importPrefixes():\n",
    "    db = sqlite3.connect(localDB)\n",
    "    cur = db.cursor()   \n",
    "    for prefix in prefixes:\n",
    "        sql=\"INSERT or IGNORE INTO {tn} ({nf1}, {nf2}) VALUES('{val1}', '{val2}')\"\\\n",
    "             .format(tn=prefix_table_name, nf1=fld_prefix,nf2=fld_org,\\\n",
    "                     val1=prefix,val2='-')\n",
    "        cur.execute(sql)        \n",
    "    db.commit()\n",
    "    db.close()"
   ]
  },
  {
   "cell_type": "code",
   "execution_count": null,
   "metadata": {
    "collapsed": true
   },
   "outputs": [],
   "source": [
    "def main(path):\n",
    "    path = '{}/*.json'.format(path)\n",
    "    print(path);\n",
    "    for fname in glob.glob(path):\n",
    "        print(fname);\n",
    "        data = json.load(open(fname))\n",
    "        for l in data:\n",
    "            processNode(l['source'])\n",
    "            processNode(l['target'])            \n",
    "        importDOIs(fname)\n",
    "    listPrefixes()\n",
    "    importPrefixes()\n",
    "    print('done!')"
   ]
  },
  {
   "cell_type": "code",
   "execution_count": null,
   "metadata": {
    "collapsed": true
   },
   "outputs": [],
   "source": [
    "# main('Elsevier')"
   ]
  },
  {
   "cell_type": "code",
   "execution_count": null,
   "metadata": {
    "collapsed": true
   },
   "outputs": [],
   "source": [
    "if __name__ == '__main__':\n",
    "    main(sys.argv[1])"
   ]
  },
  {
   "cell_type": "code",
   "execution_count": null,
   "metadata": {
    "collapsed": true
   },
   "outputs": [],
   "source": [
    "\n",
    "# urlString= 'https://api.datacite.org/prefixes'\n",
    "# r = requests.get(urlString)\n",
    "# for d in r.json()['data']:\n",
    "#     pp.pprint('{} - {}'.format(d['id'],d[])"
   ]
  }
 ],
 "metadata": {
  "kernelspec": {
   "display_name": "Python 3",
   "language": "python",
   "name": "python3"
  },
  "language_info": {
   "codemirror_mode": {
    "name": "ipython",
    "version": 3
   },
   "file_extension": ".py",
   "mimetype": "text/x-python",
   "name": "python",
   "nbconvert_exporter": "python",
   "pygments_lexer": "ipython3",
   "version": "3.6.3"
  }
 },
 "nbformat": 4,
 "nbformat_minor": 2
}
