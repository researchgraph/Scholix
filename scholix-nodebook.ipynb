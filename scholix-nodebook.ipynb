{
 "cells": [
  {
   "cell_type": "markdown",
   "metadata": {},
   "source": [
    "# Get List of Data Sources"
   ]
  },
  {
   "cell_type": "code",
   "execution_count": 15,
   "metadata": {},
   "outputs": [
    {
     "name": "stdout",
     "output_type": "stream",
     "text": [
      "0. Datasets%20in%20Datacite\n",
      "1. Cambridge%20Crystallographic%20Data%20Centre\n",
      "2. PubMed\n",
      "3. Pangaea\n",
      "4. Australian%20National%20Data%20Service\n",
      "5. ICPSR\n",
      "6. RCSB\n",
      "7. Elsevier\n",
      "8. Springer%20Nature\n",
      "9. Thomson%20Reuters\n",
      "10. OpenAIRE\n",
      "11. IEDA\n",
      "12. 3TU.Datacentrum\n",
      "13. IEEE\n",
      "We found 14 data sources.\n"
     ]
    }
   ],
   "source": [
    "import requests, os\n",
    "from requests.utils import requote_uri\n",
    "urlString= 'https://api-dliservice-prototype-dli.d4science.org/v1/listDatasources'\n",
    "r = requests.get(urlString)\n",
    "\n",
    "#Create a URL encoded list of data sources\n",
    "dataSources=[];\n",
    "for ds in r.json():\n",
    "    if len(ds.strip())>0:\n",
    "        dataSources.append(requote_uri(ds))\n",
    "        \n",
    "        \n",
    "#Print name of datasources\n",
    "count=0\n",
    "for ds in dataSources:\n",
    "    print('{}. {}'.format(count,ds))\n",
    "    count=count+1\n",
    "    \n",
    "print('We found {} data sources.'.format(count))"
   ]
  },
  {
   "cell_type": "markdown",
   "metadata": {},
   "source": [
    "# Download files for a given datasource"
   ]
  },
  {
   "cell_type": "code",
   "execution_count": 28,
   "metadata": {},
   "outputs": [
    {
     "name": "stdout",
     "output_type": "stream",
     "text": [
      "We found a local folder for: Springer%20Nature\n",
      "We found a local folder for: Australian%20National%20Data%20Service\n"
     ]
    }
   ],
   "source": [
    "SelectedDataSources={4,8}\n",
    "\n",
    "#Create local folder for the data sources\n",
    "for i in SelectedDataSources:\n",
    "    ds=dataSources[i]\n",
    "    if not os.path.exists(ds):\n",
    "        print ('Creating new folder: {}'.format(ds))\n",
    "        os.makedirs(ds)\n",
    "    else:\n",
    "        print ('We found a local folder for: {}'.format(ds))"
   ]
  },
  {
   "cell_type": "code",
   "execution_count": 33,
   "metadata": {},
   "outputs": [
    {
     "data": {
      "text/plain": [
       "0"
      ]
     },
     "execution_count": 33,
     "metadata": {},
     "output_type": "execute_result"
    }
   ],
   "source": [
    "100%100"
   ]
  },
  {
   "cell_type": "code",
   "execution_count": 34,
   "metadata": {},
   "outputs": [
    {
     "name": "stdout",
     "output_type": "stream",
     "text": [
      "We have downloaded 100 files for Springer%20Nature\n",
      "We have downloaded 100 files for Australian%20National%20Data%20Service\n"
     ]
    }
   ],
   "source": [
    "#Download\n",
    "maximumPages=100\n",
    "\n",
    "for i in SelectedDataSources:\n",
    "    ds=dataSources[i]\n",
    "    page=0\n",
    "    statusCode=200\n",
    "    while (statusCode==200 and page < maximumPages):\n",
    "        urlString= 'https://api-dliservice-prototype-dli.d4science.org/v1/linksFromDatasource?datasource={}&page={}'.format(ds,page)\n",
    "        r = requests.get(urlString)\n",
    "        fileName='{}.json'.format(1000000+page)\n",
    "        myfile = open('./{}/{}'.format(ds,fileName), 'w')\n",
    "        myfile.write(r.text)\n",
    "        statusCode= r.status_code\n",
    "        page = page + 1\n",
    "        myfile.close\n",
    "        if page%100==0:\n",
    "            print('We have downloaded {} files for {}'.format(page,ds))"
   ]
  },
  {
   "cell_type": "markdown",
   "metadata": {},
   "source": [
    "# END"
   ]
  }
 ],
 "metadata": {
  "kernelspec": {
   "display_name": "Python 3",
   "language": "python",
   "name": "python3"
  },
  "language_info": {
   "codemirror_mode": {
    "name": "ipython",
    "version": 3
   },
   "file_extension": ".py",
   "mimetype": "text/x-python",
   "name": "python",
   "nbconvert_exporter": "python",
   "pygments_lexer": "ipython3",
   "version": "3.6.3"
  }
 },
 "nbformat": 4,
 "nbformat_minor": 2
}
