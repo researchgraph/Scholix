{
 "cells": [
  {
   "cell_type": "markdown",
   "metadata": {},
   "source": [
    "# Process Data from REST API\n",
    "## Get List of data sources"
   ]
  },
  {
   "cell_type": "code",
   "execution_count": null,
   "metadata": {
    "collapsed": true
   },
   "outputs": [],
   "source": [
    "import requests, os\n",
    "from requests.utils import requote_uri\n",
    "urlString= 'http://api.scholexplorer.openaire.eu/v1/listDatasources'\n",
    "r = requests.get(urlString)\n",
    "\n",
    "#Create a URL encoded list of data sources\n",
    "dataSources=[];\n",
    "for ds in r.json():\n",
    "    if len(ds.strip())>0:\n",
    "        dataSources.append(requote_uri(ds))\n",
    "        \n",
    "        \n",
    "#Print name of datasources\n",
    "count=0\n",
    "for ds in dataSources:\n",
    "    print('{}. {}'.format(count,ds))\n",
    "    count=count+1\n",
    "    \n",
    "print('We found {} data sources.'.format(count))"
   ]
  },
  {
   "cell_type": "markdown",
   "metadata": {},
   "source": [
    "## Download files for a given datasource"
   ]
  },
  {
   "cell_type": "code",
   "execution_count": null,
   "metadata": {
    "collapsed": true
   },
   "outputs": [],
   "source": [
    "SelectedDataSources={5,6,7,8,9,10,11,12,13,14,15}\n",
    "\n",
    "#Create local folder for the data sources\n",
    "for i in SelectedDataSources:\n",
    "    ds=dataSources[i]\n",
    "    if not os.path.exists(ds):\n",
    "        print ('Creating new folder: {}'.format(ds))\n",
    "        os.makedirs(ds)\n",
    "    else:\n",
    "        print ('We found a local folder for: {}'.format(ds))"
   ]
  },
  {
   "cell_type": "code",
   "execution_count": null,
   "metadata": {
    "collapsed": true
   },
   "outputs": [],
   "source": [
    "#Download\n",
    "downloadFiles=True\n",
    "maximumPages=1000000\n",
    "\n",
    "if downloadFiles:\n",
    "    for i in SelectedDataSources:\n",
    "        ds=dataSources[i]\n",
    "        page=0\n",
    "        statusCode=200\n",
    "        while (statusCode==200 and page < maximumPages):\n",
    "            urlString= 'https://api-dliservice-prototype-dli.d4science.org/v1/linksFromDatasource?datasource={}&page={}'.format(ds,page)\n",
    "            r = requests.get(urlString)\n",
    "            fileName='{}.json'.format(1000000+page)\n",
    "            myfile = open('./{}/{}'.format(ds,fileName), 'w')\n",
    "            myfile.write(r.text)\n",
    "            statusCode= r.status_code\n",
    "            page = page + 1\n",
    "            myfile.close\n",
    "            if page%10==0:\n",
    "                print('We have downloaded {} files for {}'.format(page,ds))\n",
    "    print('Download is complete')\n",
    "else:\n",
    "    print('Download is disabled')"
   ]
  },
  {
   "cell_type": "markdown",
   "metadata": {},
   "source": [
    "## Create CSV from JSON files"
   ]
  },
  {
   "cell_type": "markdown",
   "metadata": {},
   "source": [
    "### Read Schemas"
   ]
  },
  {
   "cell_type": "code",
   "execution_count": null,
   "metadata": {
    "collapsed": true
   },
   "outputs": [],
   "source": [
    "import glob, json, csv, pprint\n",
    "\n",
    "nodes={}\n",
    "relations=[]\n",
    "schemas=[]\n",
    "\n",
    "def addToSchemas(identifiers):\n",
    "    for i in identifiers:\n",
    "        if i['schema'] not in schemas:\n",
    "            print(i['schema'])\n",
    "            schemas.append(i['schema'])\n",
    "\n",
    "for i in SelectedDataSources:\n",
    "        ds=dataSources[i]\n",
    "        path = ds\n",
    "        dirs = os.listdir(path)\n",
    "        path = '{}/*.json'.format(ds)\n",
    "        for fname in glob.glob(path):\n",
    "            #print(fname)\n",
    "            data = json.load(open(fname))\n",
    "            for l in data:\n",
    "                addToSchemas(l['source']['identifiers'])\n",
    "                addToSchemas(l['target']['identifiers'])\n",
    "\n",
    "print('Done!')"
   ]
  },
  {
   "cell_type": "markdown",
   "metadata": {},
   "source": [
    "### Read JSON files"
   ]
  },
  {
   "cell_type": "code",
   "execution_count": null,
   "metadata": {
    "collapsed": true
   },
   "outputs": [],
   "source": [
    "import glob, json, csv, pprint\n",
    "\n",
    "nodes={}\n",
    "relations=[]\n",
    "\n",
    "def addNode(node,label,fname):\n",
    "    row={'title':'','label':label,'fname':fname}\n",
    "\n",
    "    try:\n",
    "        row['title']=node['title']\n",
    "    except Exception:\n",
    "        pass\n",
    "                \n",
    "    for i in node['identifiers']:\n",
    "        if i['schema']=='dnetIdentifier':\n",
    "            row['local_id']=i['identifier']\n",
    "        else:\n",
    "            row[i['schema']]=i['identifier']    \n",
    "\n",
    "    if row['local_id'] in nodes:\n",
    "        if 'doi' in row:\n",
    "            nodes[row['local_id']]=row\n",
    "    else:\n",
    "        nodes[row['local_id']]=row     \n",
    "\n",
    "    return row['local_id']\n",
    "\n",
    " \n",
    "\n",
    "\n",
    "for i in SelectedDataSources:\n",
    "        ds=dataSources[i]\n",
    "        path = ds\n",
    "        dirs = os.listdir(path)\n",
    "        path = '{}/*.json'.format(ds)\n",
    "        \n",
    "        for fname in glob.glob(path):\n",
    "            print(fname)\n",
    "            data = json.load(open(fname))\n",
    "            \n",
    "            for l in data:                \n",
    "                label=''\n",
    "                for p in l['linkProvider']:\n",
    "                    if label!='':\n",
    "                        label= label +';'\n",
    "                    label= label + p['name']\n",
    "\n",
    "                source_id=addNode(l['source'],label,fname)                                                                 \n",
    "                target_id=addNode(l['target'],label,fname)\n",
    "\n",
    "                relationship_type=l['relationship']['name']        \n",
    "                relation_row=[source_id,target_id,relationship_type]\n",
    "                if relation_row not in relations:   \n",
    "                    relations.append(relation_row)\n",
    "\n",
    "print('Done!')"
   ]
  },
  {
   "cell_type": "markdown",
   "metadata": {},
   "source": [
    "### Create nodes.csv"
   ]
  },
  {
   "cell_type": "code",
   "execution_count": null,
   "metadata": {
    "collapsed": true
   },
   "outputs": [],
   "source": [
    "nodeFile=open('nodes.csv','w')\n",
    "nodeWriter = csv.writer(nodeFile, quoting=csv.QUOTE_ALL)\n",
    "nodeWriter.writerow (['key:ID','title','doi','uri','url','local','handle','pmid','icpsr','pdb','pubmedid','genbank','geo','embl','ensembl','issn','purl','isbn','orcid','json',':LABEL'])\n",
    "\n",
    "for row in nodes.values():\n",
    "    doi=row.get('doi','')\n",
    "    uri=row.get('uri','')\n",
    "    url=row.get('url','')\n",
    "    local=row.get('local','') \n",
    "    handle=row.get('handle','') \n",
    "    pmid=row.get('pmid','') \n",
    "    icpsr=row.get('icpsr','') \n",
    "    pdb=row.get('pdb','') \n",
    "    pubmedid=row.get('pubmedid','')\n",
    "    genbank=row.get('genbank','')\n",
    "    geo=row.get('geo','')\n",
    "    embl=row.get('embl','')\n",
    "    ensembl=row.get('ensembl','')\n",
    "    issn=row.get('issn','')\n",
    "    purl=row.get('purl','')\n",
    "    isbn=row.get('isbn','')\n",
    "    orcid=row.get('orcid','')\n",
    "    nodeWriter.writerow ([row['local_id'],row['title'],doi,uri,url,local,handle,pmid,icpsr,pdb,pubmedid,'genbank','geo','embl','ensembl','issn','purl','isbn','orcid,row['fname'],row['label']])\n",
    "    \n",
    "nodeFile.close()\n",
    "print('Done!')"
   ]
  },
  {
   "cell_type": "markdown",
   "metadata": {},
   "source": [
    "### Create relations.csv"
   ]
  },
  {
   "cell_type": "code",
   "execution_count": null,
   "metadata": {
    "collapsed": true
   },
   "outputs": [],
   "source": [
    "nodeFile=open('relations.csv','w')\n",
    "nodeWriter = csv.writer(nodeFile, quoting=csv.QUOTE_ALL)\n",
    "nodeWriter.writerow ([':START_ID',':END_ID',':TYPE'])\n",
    "\n",
    "for row in relations:\n",
    "    nodeWriter.writerow(row)\n",
    "    \n",
    "nodeFile.close()\n",
    "print('Done!')"
   ]
  },
  {
   "cell_type": "markdown",
   "metadata": {},
   "source": [
    "# Process Bulk Data"
   ]
  },
  {
   "cell_type": "markdown",
   "metadata": {},
   "source": [
    "## Process DOI links"
   ]
  },
  {
   "cell_type": "code",
   "execution_count": 14,
   "metadata": {},
   "outputs": [
    {
     "name": "stdout",
     "output_type": "stream",
     "text": [
      "['10.17182/hepdata.52790.v1/t323',\n",
      " '10.1594/pangaea.253924',\n",
      " '10.2973/odp.proc.ir.122.1990',\n",
      " '10.1594/pangaea.293975',\n",
      " '10.1594/pangaea.149291',\n",
      " '10.1594/pangaea.767698',\n",
      " '10.5517/ccp2n2g',\n",
      " '10.1016/j.ica.2007.03.022',\n",
      " '10.1594/pangaea.358496',\n",
      " '10.1029/93pa03301',\n",
      " '10.5061/dryad.26pm4/1',\n",
      " '10.5061/dryad.26pm4',\n",
      " '10.5517/cc7sf6m',\n",
      " '10.1002/anie.200454130',\n",
      " '10.5517/cc1jsbf2',\n",
      " '10.1021/jacs.5b09853',\n",
      " '10.17182/hepdata.42789.v1/t1',\n",
      " '10.17182/hepdata.42789.v1',\n",
      " '10.17182/hepdata.42789',\n",
      " '10.5063/aa/dpennington.307.2',\n",
      " '10.5517/cc5w6fn',\n",
      " '10.1107/s0108270101013506',\n",
      " '10.5517/cc9rj7s',\n",
      " '10.1107/s1600536807024944',\n",
      " '10.17182/hepdata.19211.v1/t3',\n",
      " '10.17182/hepdata.19211',\n",
      " '10.17182/hepdata.41866.v1/t1',\n",
      " '10.17182/hepdata.41866.v1',\n",
      " '10.17182/hepdata.35328.v1/t2',\n",
      " '10.5517/cc1jlz7b',\n",
      " '10.1039/c5dt03387j',\n",
      " '10.1594/pangaea.221073',\n",
      " '10.2973/dsdp.proc.96.1986',\n",
      " '10.5517/cc87kcd',\n",
      " '10.1039/b501437a',\n",
      " '10.1594/pangaea.847482',\n",
      " '10.1594/pangaea.847494',\n",
      " '10.5281/zenodo.50589',\n",
      " '10.1594/pangaea.793183',\n",
      " '10.15468/dl.owrr3p',\n",
      " '10.15468/dl.0dkm9w',\n",
      " '10.15468/dl.efocfm',\n",
      " '10.15468/dl.u4c7jy',\n",
      " '10.15468/dl.exyvwm',\n",
      " '10.15468/dl.yo0jy1',\n",
      " '10.15468/dl.fmxepu',\n",
      " '10.15468/dl.wxigmh',\n",
      " '10.17182/hepdata.53242.v1/t223',\n",
      " '10.17182/hepdata.4926.v1/t2',\n",
      " '10.6085/aa/ichixx_xxxitbdxlzr01_20030801.50.2',\n",
      " '10.6085/aa/ichixx_xxxitbdxlzr01_20030801.50.1',\n",
      " '10.5061/dryad.f5d20/22',\n",
      " '10.5061/dryad.f5d20',\n",
      " '10.17182/hepdata.14979.v1/t10',\n",
      " '10.5517/ccr7gfv',\n",
      " '10.1002/anie.200803418',\n",
      " '10.1594/pangaea.751115',\n",
      " '10.1007/s10584-005-6952-6',\n",
      " '10.1594/pangaea.611088',\n",
      " '10.5517/cc5q5pq',\n",
      " '10.1107/s1600536801007462',\n",
      " '10.5517/cctc3s1',\n",
      " '10.1246/bcsj.20090187',\n",
      " '10.17182/hepdata.17800.v1/t9',\n",
      " '10.17182/hepdata.17800.v1',\n",
      " '10.1594/pangaea.819842',\n",
      " '10.2973/dsdp.proc.61.110.1981',\n",
      " '10.1594/pangaea.672095',\n",
      " '10.15468/dl.v5cwbq',\n",
      " '10.15468/dl.ankhrs',\n",
      " '10.15468/dl.etoxtu',\n",
      " '10.1594/pangaea.111337',\n",
      " '10.4319/lo.1997.42.1.0001',\n",
      " '10.5061/dryad.94ms3/6',\n",
      " '10.5061/dryad.94ms3',\n",
      " '10.15468/dl.ljfivu',\n",
      " '10.17182/hepdata.72069.v1/t13',\n",
      " '10.17182/hepdata.72069',\n",
      " '10.15468/dl.hpnb8t',\n",
      " '10.1594/pangaea.72144',\n",
      " '10.1594/pangaea.315391',\n",
      " '10.15468/dl.rvc3t3',\n",
      " '10.17182/hepdata.6961.v1/t138',\n",
      " '10.17182/hepdata.39687.v1/t10',\n",
      " '10.17182/hepdata.39687.v1',\n",
      " '10.1594/pangaea.687753',\n",
      " '10.1594/pangaea.755696',\n",
      " '10.1594/pangaea.138288',\n",
      " '10.2312/bzp_0251_1997',\n",
      " '10.15468/m7jcb6',\n",
      " '10.1594/pangaea.407644',\n",
      " '10.1594/pangaea.249264',\n",
      " '10.1594/pangaea.299542',\n",
      " '10.1594/pangaea.727320',\n",
      " '10.1594/pangaea.788479',\n",
      " '10.1594/pangaea.604934',\n",
      " '10.1594/pangaea.299494',\n",
      " '10.1594/pangaea.75774',\n",
      " '10.1594/pangaea.71268',\n",
      " '10.1594/pangaea.719607',\n",
      " '10.15468/yshujo',\n",
      " '10.1594/pangaea.250146',\n",
      " '10.1594/pangaea.75427',\n",
      " '10.1594/pangaea.75955',\n",
      " '10.1594/pangaea.806537',\n",
      " '10.15468/dl.e9zvmn',\n",
      " '10.1594/pangaea.510781',\n",
      " '10.1594/pangaea.755671',\n",
      " '10.1594/pangaea.123178',\n",
      " '10.1594/pangaea.250390',\n",
      " '10.1594/pangaea.754385',\n",
      " '10.17182/hepdata.66915.v1/t16',\n",
      " '10.17182/hepdata.66915',\n",
      " '10.17182/hepdata.75616.v1/t112',\n",
      " '10.6085/aa/ca100x_100mtbd010r00_20060606.40.2',\n",
      " '10.5517/ccnt8b1',\n",
      " '10.1021/om060256z',\n",
      " '10.1594/pangaea.743497',\n",
      " '10.1594/pangaea.850133',\n",
      " '10.15468/na8nyh',\n",
      " '10.15468/hmrgjg',\n",
      " '10.3886/icpsr03131.v2',\n",
      " '10.3886/icpsr03131.v1',\n",
      " '10.1594/pangaea.823159',\n",
      " '10.5517/cc11sqm5',\n",
      " '10.1016/j.jorganchem.2014.04.021',\n",
      " '10.5517/ccdc.csd.cc1kf088',\n",
      " '10.1002/adsc.201600294',\n",
      " '10.17182/hepdata.58995.v1/t120',\n",
      " '10.17182/hepdata.58995.v1',\n",
      " '10.5065/d6pn9416',\n",
      " '10.5061/dryad.5c6v7',\n",
      " '10.5061/dryad.5c6v7/15',\n",
      " '10.5061/dryad.5c6v7/8',\n",
      " '10.17182/hepdata.31152.v1/t15',\n",
      " '10.5517/ccv6qyp',\n",
      " '10.1021/ja9091566',\n",
      " '10.15475/dhz/kfn/1918/10/31',\n",
      " '10.15475/dhz/kfn/1918/10/31#article=995672fccfe3b005be895b9354f75e30',\n",
      " '10.15475/dhz/kfn/1918/10/31#page=1',\n",
      " '10.15475/dhz/kfn/1918/10/31#page-1',\n",
      " '10.15475/dhz/kfn/1918/10/31#article=ecbcbfd5bcedcece88216261bacfad95',\n",
      " '10.15475/dhz/kfn/1918/10/31#article=50c570ee24a91e06747228b4c2fbdf00']\n"
     ]
    }
   ],
   "source": [
    "import json, pprint\n",
    "fname = 'Datasets%20in%20Datacite/1000004.json'\n",
    "data = json.load(open(fname))\n",
    "\n",
    "dois=[]\n",
    "\n",
    "def processNode(node):\n",
    "    for i in node['identifiers']:\n",
    "        if i['schema']=='doi':\n",
    "            identifier=i['identifier']\n",
    "            if identifier not in dois:\n",
    "                dois.append(identifier)\n",
    "\n",
    "for l in data:\n",
    "    processNode(l['source'])\n",
    "    processNode(l['target'])\n",
    "    \n",
    "    \n",
    "pprint.pprint (dois)\n"
   ]
  },
  {
   "cell_type": "code",
   "execution_count": null,
   "metadata": {
    "collapsed": true
   },
   "outputs": [],
   "source": []
  }
 ],
 "metadata": {
  "kernelspec": {
   "display_name": "Python 3",
   "language": "python",
   "name": "python3"
  },
  "language_info": {
   "codemirror_mode": {
    "name": "ipython",
    "version": 3
   },
   "file_extension": ".py",
   "mimetype": "text/x-python",
   "name": "python",
   "nbconvert_exporter": "python",
   "pygments_lexer": "ipython3",
   "version": "3.7.0"
  }
 },
 "nbformat": 4,
 "nbformat_minor": 2
}
