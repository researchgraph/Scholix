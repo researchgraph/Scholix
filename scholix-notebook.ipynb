{
 "cells": [
  {
   "cell_type": "markdown",
   "metadata": {},
   "source": [
    "# Get List of Data Sources"
   ]
  },
  {
   "cell_type": "code",
   "execution_count": null,
   "metadata": {},
   "outputs": [],
   "source": [
    "import requests, os\n",
    "from requests.utils import requote_uri\n",
    "urlString= 'https://api-dliservice-prototype-dli.d4science.org/v1/listDatasources'\n",
    "r = requests.get(urlString)\n",
    "\n",
    "#Create a URL encoded list of data sources\n",
    "dataSources=[];\n",
    "for ds in r.json():\n",
    "    if len(ds.strip())>0:\n",
    "        dataSources.append(requote_uri(ds))\n",
    "        \n",
    "        \n",
    "#Print name of datasources\n",
    "count=0\n",
    "for ds in dataSources:\n",
    "    print('{}. {}'.format(count,ds))\n",
    "    count=count+1\n",
    "    \n",
    "print('We found {} data sources.'.format(count))"
   ]
  },
  {
   "cell_type": "markdown",
   "metadata": {},
   "source": [
    "# Download files for a given datasource"
   ]
  },
  {
   "cell_type": "code",
   "execution_count": null,
   "metadata": {},
   "outputs": [],
   "source": [
    "SelectedDataSources={4,8}\n",
    "\n",
    "#Create local folder for the data sources\n",
    "for i in SelectedDataSources:\n",
    "    ds=dataSources[i]\n",
    "    if not os.path.exists(ds):\n",
    "        print ('Creating new folder: {}'.format(ds))\n",
    "        os.makedirs(ds)\n",
    "    else:\n",
    "        print ('We found a local folder for: {}'.format(ds))"
   ]
  },
  {
   "cell_type": "code",
   "execution_count": null,
   "metadata": {},
   "outputs": [],
   "source": [
    "#Download\n",
    "maximumPages=10000\n",
    "\n",
    "for i in SelectedDataSources:\n",
    "    ds=dataSources[i]\n",
    "    page=0\n",
    "    statusCode=200\n",
    "    while (statusCode==200 and page < maximumPages):\n",
    "        urlString= 'https://api-dliservice-prototype-dli.d4science.org/v1/linksFromDatasource?datasource={}&page={}'.format(ds,page)\n",
    "        r = requests.get(urlString)\n",
    "        fileName='{}.json'.format(1000000+page)\n",
    "        myfile = open('./{}/{}'.format(ds,fileName), 'w')\n",
    "        myfile.write(r.text)\n",
    "        statusCode= r.status_code\n",
    "        page = page + 1\n",
    "        myfile.close\n",
    "        if page%100==0:\n",
    "            print('We have downloaded {} files for {}'.format(page,ds))"
   ]
  },
  {
   "cell_type": "markdown",
   "metadata": {},
   "source": [
    "# END"
   ]
  }
 ],
 "metadata": {
  "kernelspec": {
   "display_name": "Python 3",
   "language": "python",
   "name": "python3"
  },
  "language_info": {
   "codemirror_mode": {
    "name": "ipython",
    "version": 3
   },
   "file_extension": ".py",
   "mimetype": "text/x-python",
   "name": "python",
   "nbconvert_exporter": "python",
   "pygments_lexer": "ipython3",
   "version": "3.6.3"
  }
 },
 "nbformat": 4,
 "nbformat_minor": 2
}
