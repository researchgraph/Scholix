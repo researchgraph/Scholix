{
 "cells": [
  {
   "cell_type": "markdown",
   "metadata": {},
   "source": [
    "# Get List of Data Sources"
   ]
  },
  {
   "cell_type": "code",
   "execution_count": null,
   "metadata": {
    "collapsed": true
   },
   "outputs": [],
   "source": [
    "import requests, os\n",
    "from requests.utils import requote_uri\n",
    "urlString= 'https://api-dliservice-prototype-dli.d4science.org/v1/listDatasources'\n",
    "r = requests.get(urlString)\n",
    "\n",
    "#Create a URL encoded list of data sources\n",
    "dataSources=[];\n",
    "for ds in r.json():\n",
    "    if len(ds.strip())>0:\n",
    "        dataSources.append(requote_uri(ds))\n",
    "        \n",
    "        \n",
    "#Print name of datasources\n",
    "count=0\n",
    "for ds in dataSources:\n",
    "    print('{}. {}'.format(count,ds))\n",
    "    count=count+1\n",
    "    \n",
    "print('We found {} data sources.'.format(count))"
   ]
  },
  {
   "cell_type": "markdown",
   "metadata": {},
   "source": [
    "# Download files for a given datasource"
   ]
  },
  {
   "cell_type": "code",
   "execution_count": null,
   "metadata": {
    "collapsed": true
   },
   "outputs": [],
   "source": [
    "SelectedDataSources={4,8}\n",
    "\n",
    "#Create local folder for the data sources\n",
    "for i in SelectedDataSources:\n",
    "    ds=dataSources[i]\n",
    "    if not os.path.exists(ds):\n",
    "        print ('Creating new folder: {}'.format(ds))\n",
    "        os.makedirs(ds)\n",
    "    else:\n",
    "        print ('We found a local folder for: {}'.format(ds))"
   ]
  },
  {
   "cell_type": "code",
   "execution_count": null,
   "metadata": {
    "collapsed": true
   },
   "outputs": [],
   "source": [
    "#Download\n",
    "downloadFiles=False\n",
    "maximumPages=10001\n",
    "\n",
    "if downloadFiles:\n",
    "    for i in SelectedDataSources:\n",
    "        ds=dataSources[i]\n",
    "        page=0\n",
    "        statusCode=200\n",
    "        while (statusCode==200 and page < maximumPages):\n",
    "            urlString= 'https://api-dliservice-prototype-dli.d4science.org/v1/linksFromDatasource?datasource={}&page={}'.format(ds,page)\n",
    "            r = requests.get(urlString)\n",
    "            fileName='{}.json'.format(1000000+page)\n",
    "            myfile = open('./{}/{}'.format(ds,fileName), 'w')\n",
    "            myfile.write(r.text)\n",
    "            statusCode= r.status_code\n",
    "            page = page + 1\n",
    "            myfile.close\n",
    "            if page%10==0:\n",
    "                print('We have downloaded {} files for {}'.format(page,ds))\n",
    "    print('Download is complete')\n",
    "else:\n",
    "    print('Download is disabled')"
   ]
  },
  {
   "cell_type": "markdown",
   "metadata": {},
   "source": [
    "# Create CSV from JSON files"
   ]
  },
  {
   "cell_type": "markdown",
   "metadata": {},
   "source": [
    "## Read JSON Files"
   ]
  },
  {
   "cell_type": "code",
   "execution_count": null,
   "metadata": {},
   "outputs": [],
   "source": [
    "import glob, json, csv, pprint\n",
    "\n",
    "nodes={}\n",
    "relations=[]\n",
    "for i in SelectedDataSources:\n",
    "        ds=dataSources[i]\n",
    "        path = ds\n",
    "        dirs = os.listdir(path)\n",
    "        path = '{}/*.json'.format(ds)\n",
    "        for fname in glob.glob(path):\n",
    "            print(fname)\n",
    "            data = json.load(open(fname))\n",
    "\n",
    "            for l in data:\n",
    "                source_title=''\n",
    "                target_title=''\n",
    "                try:\n",
    "                    source_title=l['source']['title']\n",
    "                except Exception:\n",
    "                    pass\n",
    "                \n",
    "                try:\n",
    "                    target_title=l['source']['title']\n",
    "                except Exception:\n",
    "                    pass\n",
    "\n",
    "                source_doi=''\n",
    "                target_doi=''\n",
    "                for i in l['source']['identifiers']:\n",
    "                    if i['schema']=='dnetIdentifier':\n",
    "                        source_id=i['identifier']\n",
    "                    if i['schema']=='doi':\n",
    "                        source_doi=i['identifier']\n",
    "\n",
    "                for i in l['target']['identifiers']:\n",
    "                    if i['schema']=='dnetIdentifier':\n",
    "                        target_id=i['identifier']\n",
    "                    if i['schema']=='doi':\n",
    "                        target_doi=i['identifier']      \n",
    "\n",
    "                label=''\n",
    "                for p in l['linkProvider']:\n",
    "                    label= label + p['name'] +';'\n",
    "   \n",
    "                relationship_type=l['relationship']['name']\n",
    "    \n",
    "                source_row=[source_id,source_title,source_doi,label]\n",
    "                target_row=[target_id,target_title,target_doi,label]\n",
    "                relation_row=[source_id,target_id,relationship_type]\n",
    "                \n",
    "                if source_id in nodes:\n",
    "                    if source_doi!=\"\":\n",
    "                        nodes[source_id]=source_row\n",
    "                else:\n",
    "                    nodes[source_id]=source_row \n",
    "\n",
    "                if target_id in nodes:\n",
    "                    if target_doi!=\"\":\n",
    "                        nodes[target_id]=target_row\n",
    "                else:\n",
    "                    nodes[target_id]=target_row\n",
    "                   \n",
    "                relations.append(relation_row)\n",
    "\n",
    "print('Done!')"
   ]
  },
  {
   "cell_type": "markdown",
   "metadata": {},
   "source": [
    "## Create nodes.csv"
   ]
  },
  {
   "cell_type": "code",
   "execution_count": null,
   "metadata": {},
   "outputs": [],
   "source": [
    "nodeFile=open('nodes.csv','w')\n",
    "nodeWriter = csv.writer(nodeFile, quoting=csv.QUOTE_ALL)\n",
    "nodeWriter.writerow (['key:ID','title','doi','label'])\n",
    "\n",
    "for row in nodes.values():\n",
    "    nodeWriter.writerow (row)\n",
    "    \n",
    "nodeFile.close()\n",
    "print('Done!')"
   ]
  },
  {
   "cell_type": "markdown",
   "metadata": {},
   "source": [
    "## Create relations.csv"
   ]
  },
  {
   "cell_type": "code",
   "execution_count": null,
   "metadata": {},
   "outputs": [],
   "source": [
    "nodeFile=open('relations.csv','w')\n",
    "nodeWriter = csv.writer(nodeFile, quoting=csv.QUOTE_ALL)\n",
    "nodeWriter.writerow ([':START_ID',':END_ID',':TYPE'])\n",
    "\n",
    "for row in relations:\n",
    "    nodeWriter.writerow(row)\n",
    "    \n",
    "nodeFile.close()\n",
    "print('Done!')"
   ]
  }
 ],
 "metadata": {
  "kernelspec": {
   "display_name": "Python 3",
   "language": "python",
   "name": "python3"
  },
  "language_info": {
   "codemirror_mode": {
    "name": "ipython",
    "version": 3
   },
   "file_extension": ".py",
   "mimetype": "text/x-python",
   "name": "python",
   "nbconvert_exporter": "python",
   "pygments_lexer": "ipython3",
   "version": "3.6.3"
  }
 },
 "nbformat": 4,
 "nbformat_minor": 2
}
