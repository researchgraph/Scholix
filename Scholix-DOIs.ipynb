{
 "cells": [
  {
   "cell_type": "markdown",
   "metadata": {},
   "source": [
    "# List DOI Prefixes"
   ]
  },
  {
   "cell_type": "code",
   "execution_count": null,
   "metadata": {
    "collapsed": true
   },
   "outputs": [],
   "source": [
    "import os, sys, glob, json\n",
    "import pprint as pp\n",
    "\n",
    "dois=[]\n",
    "prefixes=[]\n",
    "\n",
    "def processNode(node):\n",
    "    for i in node['identifiers']:\n",
    "        if i['schema']=='doi':\n",
    "            identifier=i['identifier']\n",
    "            if identifier not in dois:\n",
    "                dois.append(identifier)    \n",
    "\n",
    "def listPrefixes():\n",
    "    for d in dois:\n",
    "        p= d.split('/')[0]\n",
    "        if p not in prefixes:\n",
    "            prefixes.append(p)\n",
    "\n",
    "def main(path):\n",
    "    path = '{}/*.json'.format(path)\n",
    "    for fname in glob.glob(path):\n",
    "        data = json.load(open(fname))\n",
    "        for l in data:\n",
    "            if len(dois)<1000:\n",
    "                processNode(l['source'])\n",
    "                processNode(l['target'])\n",
    "            else:\n",
    "               break\n",
    "    listPrefixes()\n",
    "    pp.pprint(prefixes)\n"
   ]
  },
  {
   "cell_type": "code",
   "execution_count": null,
   "metadata": {
    "collapsed": true
   },
   "outputs": [],
   "source": [
    "if __name__ == \"__main__\":\n",
    "     main(sys.argv[1])"
   ]
  }
 ],
 "metadata": {
  "kernelspec": {
   "display_name": "Python 3",
   "language": "python",
   "name": "python3"
  },
  "language_info": {
   "codemirror_mode": {
    "name": "ipython",
    "version": 3
   },
   "file_extension": ".py",
   "mimetype": "text/x-python",
   "name": "python",
   "nbconvert_exporter": "python",
   "pygments_lexer": "ipython3",
   "version": "3.6.3"
  }
 },
 "nbformat": 4,
 "nbformat_minor": 2
}
