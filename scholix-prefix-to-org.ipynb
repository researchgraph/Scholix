{
 "cells": [
  {
   "cell_type": "markdown",
   "metadata": {},
   "source": [
    "# Setup"
   ]
  },
  {
   "cell_type": "code",
   "execution_count": 1,
   "metadata": {
    "collapsed": true
   },
   "outputs": [],
   "source": [
    "import json\n",
    "import pprint as pp\n",
    "import requests\n",
    "from requests.utils import requote_uri\n",
    "import sqlite3\n",
    "import datetime, time\n",
    "import re\n",
    "\n",
    "localDB='doi_prefixes.db'\n",
    "doi_table_name = 'dois'\n",
    "prefix_table_name = 'prefixes'\n",
    "fld_prefix='prefix'\n",
    "fld_count='cnt'\n",
    "fld_org='org'\n",
    "fld_file='file'\n",
    "fld_doi='doi'\n",
    "\n",
    "\n",
    "prefixes_datacite=[]\n",
    "prefixes_crossref=[]\n",
    "prefixes={}"
   ]
  },
  {
   "cell_type": "markdown",
   "metadata": {},
   "source": [
    "# Load DataCite prefixes"
   ]
  },
  {
   "cell_type": "code",
   "execution_count": 2,
   "metadata": {
    "collapsed": true
   },
   "outputs": [],
   "source": [
    "def getDataCitePrefixes():\n",
    "    urlString='https://api.datacite.org/prefixes'\n",
    "    r = requests.get(urlString)\n",
    "    data=r.json()['data']\n",
    "\n",
    "    for d in data:\n",
    "        prefixes_datacite.append(d['id'])"
   ]
  },
  {
   "cell_type": "code",
   "execution_count": 3,
   "metadata": {
    "collapsed": true
   },
   "outputs": [],
   "source": [
    "def markDataCitePrefixes():\n",
    "    db = sqlite3.connect(localDB)\n",
    "    cur = db.cursor()\n",
    "\n",
    "    pList=\"'{0}'\".format(\"', '\".join(prefixes_datacite))\n",
    "    sql=\"UPDATE {tn} SET {nf1}='{val1}' WHERE {nf2} in ({val2})\"\\\n",
    "        .format(tn=prefix_table_name, nf1=fld_org,nf2=fld_prefix,\\\n",
    "        val1='DataCite',val2=pList)\n",
    "    print(sql)\n",
    "    cur.execute(sql)        \n",
    "    db.commit()\n",
    "    db.close()\n",
    "    \n",
    "#getDataCitePrefixes\n",
    "#markDataCitePrefixes()"
   ]
  },
  {
   "cell_type": "markdown",
   "metadata": {},
   "source": [
    "# Load Scholix Prefixes from SqliteDB"
   ]
  },
  {
   "cell_type": "code",
   "execution_count": 4,
   "metadata": {
    "collapsed": true
   },
   "outputs": [],
   "source": [
    "def getPrefixOrg(prefix):\n",
    "    urlString='https://api.crossref.org/prefixes/{}'.format(prefix)\n",
    "    r = requests.get(urlString)\n",
    "    if r.status_code == 200: \n",
    "        return r.json()['message']['name']\n",
    "    else:\n",
    "        urlString='https://api.datacite.org/prefixes/{}'.format(prefix)\n",
    "        r = requests.get(urlString)\n",
    "        if r.status_code == 200: \n",
    "            org=r.json()['data']['attributes']['registration-agency']\n",
    "            for i in r.json()['data']['relationships']['providers']['data']:\n",
    "                org='{}:{}'.format(org,i['id'])\n",
    "            return org\n",
    "        else:\n",
    "            return None\n",
    "\n",
    "#Test        \n",
    "#print(checkCrossref('10.2912'))\n",
    "#print(checkCrossref('10.1371'))"
   ]
  },
  {
   "cell_type": "code",
   "execution_count": 5,
   "metadata": {
    "collapsed": true
   },
   "outputs": [],
   "source": [
    "def matchPrefixReg (prefix):\n",
    "    if len(prefix.strip())>0:\n",
    "        match=re.search( r'(10\\.\\d{4,5})', prefix, re.M|re.I)\n",
    "        if match:\n",
    "            return (match.group())\n",
    "        else:\n",
    "            print ('Invalid Prefix: {}'.format(prefix))\n",
    "            return None"
   ]
  },
  {
   "cell_type": "code",
   "execution_count": null,
   "metadata": {},
   "outputs": [
    {
     "name": "stdout",
     "output_type": "stream",
     "text": [
      "Processing 1920 prefixes\n"
     ]
    }
   ],
   "source": [
    "db = sqlite3.connect(localDB)\n",
    "c = db.cursor() \n",
    "sql=\"Select * from prefixes where org='-'\"\n",
    "c.execute(sql)\n",
    "all_rows = c.fetchall()\n",
    "print('Processing {} prefixes'.format(len(all_rows)))\n",
    "i=0\n",
    "for r in all_rows:\n",
    "    i=i+1\n",
    "    if i>10: break\n",
    "    prefix=matchPrefixReg(r[0])\n",
    "    if prefix:\n",
    "        org=getPrefixOrg(prefix)\n",
    "        print(sql)        \n",
    "        sql='update prefixes Set org=\"{}\" where prefix=\"{}\"'.format(org,r[0])\n",
    "        c.execute(sql)\n",
    "    else:\n",
    "        sql='update prefixes Set org=\"X\" where prefix=\"{}\"'.format(r[0])\n",
    "        print(sql)\n",
    "        c.execute(sql)\n",
    "db.commit()\n",
    "#db.rollback()\n",
    "db.close()"
   ]
  },
  {
   "cell_type": "code",
   "execution_count": null,
   "metadata": {
    "collapsed": true
   },
   "outputs": [],
   "source": []
  }
 ],
 "metadata": {
  "kernelspec": {
   "display_name": "Python 3",
   "language": "python",
   "name": "python3"
  },
  "language_info": {
   "codemirror_mode": {
    "name": "ipython",
    "version": 3
   },
   "file_extension": ".py",
   "mimetype": "text/x-python",
   "name": "python",
   "nbconvert_exporter": "python",
   "pygments_lexer": "ipython3",
   "version": "3.6.3"
  }
 },
 "nbformat": 4,
 "nbformat_minor": 2
}
