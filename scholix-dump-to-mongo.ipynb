{
 "cells": [
  {
   "cell_type": "markdown",
   "metadata": {},
   "source": [
    "# Import JSON files into a MongoDB Collection"
   ]
  },
  {
   "cell_type": "code",
   "execution_count": null,
   "metadata": {},
   "outputs": [],
   "source": [
    "import os, sys, glob, json\n",
    "import pprint as pp\n",
    "import requests\n",
    "from requests.utils import requote_uri\n",
    "import sqlite3\n",
    "import codecs\n",
    "import datetime, time\n",
    "from pymongo import MongoClient"
   ]
  },
  {
   "cell_type": "markdown",
   "metadata": {},
   "source": [
    "## MongoDB setup"
   ]
  },
  {
   "cell_type": "code",
   "execution_count": null,
   "metadata": {
    "collapsed": true
   },
   "outputs": [],
   "source": [
    "db = client.scholix\n",
    "client = MongoClient('localhost', 27017)\n",
    "collection=db.Scholix_Main_Collection"
   ]
  },
  {
   "cell_type": "markdown",
   "metadata": {},
   "source": [
    "## Main function"
   ]
  },
  {
   "cell_type": "code",
   "execution_count": 20,
   "metadata": {
    "collapsed": true
   },
   "outputs": [],
   "source": [
    "def main(path):\n",
    "    path = '{}/*.json'.format(path)\n",
    "    for fname in glob.glob(path):\n",
    "        print(fname)\n",
    "        start=datetime.datetime.now()\n",
    "        f= open(fname, 'r')\n",
    "        lines = f.readlines()\n",
    "        f.close()\n",
    "        print ('{} lines are in {}'.format(len(lines),fname))       \n",
    "        for line in lines:\n",
    "            data = json.loads(line)\n",
    "            db.dump_2018_03_16.insert_one(data)\n",
    "        end=datetime.datetime.now()\n",
    "        print('Completed in {}'.format(end-start))        \n",
    "    print('done!')"
   ]
  },
  {
   "cell_type": "code",
   "execution_count": null,
   "metadata": {},
   "outputs": [],
   "source": [
    "if __name__ == '__main__':\n",
    "    main(sys.argv[1])"
   ]
  }
 ],
 "metadata": {
  "kernelspec": {
   "display_name": "Python 3",
   "language": "python",
   "name": "python3"
  },
  "language_info": {
   "codemirror_mode": {
    "name": "ipython",
    "version": 3
   },
   "file_extension": ".py",
   "mimetype": "text/x-python",
   "name": "python",
   "nbconvert_exporter": "python",
   "pygments_lexer": "ipython3",
   "version": "3.7.0"
  }
 },
 "nbformat": 4,
 "nbformat_minor": 2
}
